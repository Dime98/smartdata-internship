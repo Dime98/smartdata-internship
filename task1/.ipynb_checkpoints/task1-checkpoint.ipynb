{
 "cells": [
  {
   "cell_type": "markdown",
   "id": "cfbb6df6",
   "metadata": {},
   "source": [
    "### Creating Classes for School Management System"
   ]
  },
  {
   "cell_type": "code",
   "execution_count": 1,
   "id": "3dd22a3e",
   "metadata": {},
   "outputs": [],
   "source": [
    "class Employee:\n",
    "    def __init__(self, first_name, last_name, department):\n",
    "        self.first_name = first_name\n",
    "        self.last_name = last_name\n",
    "        self.department = department\n",
    "\n",
    "    def display_info(self):\n",
    "        print(\"\\nEmployee info:\")\n",
    "        print(f\"name:          {self.first_name} {self.last_name}\")\n",
    "        print(f\"department:    {self.department}\")\n",
    "\n",
    "# ======================================\n",
    "class Teachers(Employee):\n",
    "    def __init__(self, first_name, last_name, department, social_number, phone_number, age, exp):\n",
    "        super().__init__(first_name, last_name, department,)\n",
    "        # public attr\n",
    "        self.first_name = first_name\n",
    "        self.last_name = last_name\n",
    "        self.department = department\n",
    "        self.age = age\n",
    "        self.exp = exp\n",
    "\n",
    "        # protected attr\n",
    "        self._phone_number = phone_number\n",
    "        # private attr\n",
    "        self.__social_number = social_number\n",
    "\n",
    "    def display_info(self):\n",
    "        print(\"\\nEmployee info (Override)\")\n",
    "        print(f\"name:          {self.first_name} {self.last_name}\")\n",
    "        print(f\"department:    {self.department}\")\n",
    "        print(f\"phone:         {self._phone_number}\")\n",
    "        print(f\"age:           {self.age}\")\n",
    "        print(f\"exp:           {self.exp}\")\n",
    "\n",
    "    def change_social_number(self, new_social_number):\n",
    "        self.__social_number = new_social_number\n",
    "\n",
    "# ======================================\n",
    "class Students:\n",
    "    def __init__(self, first_name, last_name, age, coueses, scholarship = False):\n",
    "        self.first_name = first_name\n",
    "        self.last_name = last_name\n",
    "        self.age = age\n",
    "        self.coueses = coueses\n",
    "        self.scholarship = scholarship\n",
    "    \n",
    "    def __str__(self):\n",
    "        # full_name = f\"{self.first_name} {self.last_name}\"\n",
    "        return f\"Student full name: {self.first_name} {self.last_name}\"\n",
    "\n",
    "    def __len__(self):\n",
    "        return len(self.coueses)\n",
    "\n",
    "    def __del__(self):\n",
    "        print(f\"Student {self.first_name} {self.last_name} deleted\")\n",
    "\n",
    "# ======================================\n",
    "class Course:\n",
    "    all_coueses = []\n",
    "    def __init__(self, course_name, teacher = None):\n",
    "        self.course_name = course_name\n",
    "        self.teacher = teacher\n",
    "\n",
    "        Course.all_coueses.append(self.course_name)\n"
   ]
  },
  {
   "cell_type": "code",
   "execution_count": 2,
   "id": "3462c84c",
   "metadata": {},
   "outputs": [
    {
     "name": "stdout",
     "output_type": "stream",
     "text": [
      "Available courses:\n",
      "\tBiology\n",
      "\tComputer science\n",
      "\tUX\n"
     ]
    }
   ],
   "source": [
    "# create course objects\n",
    "\n",
    "crs_bio = Course(\"Biology\")\n",
    "crs_it = Course(\"Computer science\")\n",
    "crs_design = Course(\"UX\")\n",
    "\n",
    "# print all courses\n",
    "print(\"Available courses:\")\n",
    "for course in Course.all_coueses:\n",
    "    print(f\"\\t{course}\")\n"
   ]
  },
  {
   "cell_type": "code",
   "execution_count": 5,
   "id": "848fe536",
   "metadata": {},
   "outputs": [
    {
     "name": "stdout",
     "output_type": "stream",
     "text": [
      "\n",
      "changing private variable __social_number within class using change_social_number()\n",
      "{'first_name': 'Dan', 'last_name': 'Clinton', 'department': 'biology', 'age': 35, 'exp': 15, '_phone_number': '555-1212', '_Teachers__social_number': 12346789}\n",
      "{'first_name': 'Dan', 'last_name': 'Clinton', 'department': 'biology', 'age': 35, 'exp': 15, '_phone_number': '555-1212', '_Teachers__social_number': 98765432}\n",
      "\n",
      "changing partially private variable _phone_number\n",
      "555-1212\n",
      "444-1212\n",
      "\n",
      "\n",
      "Employee info:\n",
      "name:          Mick Thompson\n",
      "department:    assistant\n",
      "None\n",
      "\n",
      "Employee info (Override)\n",
      "name:          Dan Clinton\n",
      "department:    biology\n",
      "phone:         444-1212\n",
      "age:           35\n",
      "exp:           15\n",
      "None\n"
     ]
    }
   ],
   "source": [
    "# create teachers\n",
    "teacher1 = Teachers(\"Dan\", \"Clinton\", \"biology\", 12346789, \"555-1212\" ,35, 15)\n",
    "# # teacher2 = Teachers(\"teach2\", \"teach2 last name\")\n",
    "\n",
    "# change protected field\n",
    "# print(teacher1.__social_number) # this line would give an error because __social_number is private\n",
    "print(\"\\nchanging private variable __social_number within class using change_social_number()\")\n",
    "print(teacher1.__dict__)\n",
    "teacher1.change_social_number(98765432)\n",
    "print(teacher1.__dict__)\n",
    "\n",
    "# ======================================\n",
    "\n",
    "# partially private var\n",
    "print(\"\\nchanging partially private variable _phone_number\")\n",
    "print(teacher1._phone_number)\n",
    "teacher1._phone_number = \"444-1212\"\n",
    "print(teacher1._phone_number)\n",
    "\n",
    "# Method Overriding\n",
    "# print(teacher1.display_info())\n",
    "print()\n",
    "emp_1 = Employee(\"Mick\", \"Thompson\", \"assistant\")\n",
    "print(emp_1.display_info())\n",
    "print(teacher1.display_info())\n"
   ]
  },
  {
   "cell_type": "code",
   "execution_count": 6,
   "id": "3b8b0618",
   "metadata": {},
   "outputs": [
    {
     "name": "stdout",
     "output_type": "stream",
     "text": [
      "Student full name: Alex winston\n",
      "Alex if taking 3 courses\n"
     ]
    }
   ],
   "source": [
    "# create Student obj and add courses\n",
    "s1_courses = [crs_bio, crs_it, crs_design]\n",
    "s1 = Students(\"Alex\", \"winston\", 25, s1_courses, True)\n",
    "s2 = Students(\"john\", \"snow\", 25, crs_it)\n",
    "\n",
    "# using __str__ to print out full name\n",
    "print(s1)\n",
    "\n",
    "# using __len__ to print number of courses student is attending\n",
    "print(f\"{s1.first_name} if taking {len(s1)} courses\")\n"
   ]
  },
  {
   "cell_type": "code",
   "execution_count": 7,
   "id": "deec1ea4",
   "metadata": {},
   "outputs": [
    {
     "name": "stdout",
     "output_type": "stream",
     "text": [
      "Student Alex winston deleted\n"
     ]
    }
   ],
   "source": [
    "# using __del__ to delete student object\n",
    "del s1"
   ]
  }
 ],
 "metadata": {
  "kernelspec": {
   "display_name": "Python 3 (ipykernel)",
   "language": "python",
   "name": "python3"
  },
  "language_info": {
   "codemirror_mode": {
    "name": "ipython",
    "version": 3
   },
   "file_extension": ".py",
   "mimetype": "text/x-python",
   "name": "python",
   "nbconvert_exporter": "python",
   "pygments_lexer": "ipython3",
   "version": "3.11.2"
  }
 },
 "nbformat": 4,
 "nbformat_minor": 5
}
