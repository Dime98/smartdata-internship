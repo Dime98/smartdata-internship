{
 "cells": [
  {
   "cell_type": "code",
   "execution_count": 6,
   "id": "ec1b6547",
   "metadata": {},
   "outputs": [
    {
     "name": "stdout",
     "output_type": "stream",
     "text": [
      "\n",
      "a) \n",
      "\n",
      "* \n",
      "* * \n",
      "* * * \n",
      "* * * * \n",
      "* * * * * \n"
     ]
    }
   ],
   "source": [
    "print(\"\\na) \")\n",
    "for i in range(6):\n",
    "\tprint(i*\"* \")\n"
   ]
  },
  {
   "cell_type": "code",
   "execution_count": 7,
   "id": "9f14df58",
   "metadata": {},
   "outputs": [
    {
     "name": "stdout",
     "output_type": "stream",
     "text": [
      "\n",
      "b) \n",
      "* * * * * \n",
      "* * * * \n",
      "* * * \n",
      "* * \n",
      "* \n",
      "\n"
     ]
    }
   ],
   "source": [
    "print(\"\\nb) \")\n",
    "for i in range(6)[::-1]:\n",
    "\tprint(i*\"* \")\n"
   ]
  },
  {
   "cell_type": "code",
   "execution_count": 8,
   "id": "77141afe",
   "metadata": {},
   "outputs": [
    {
     "name": "stdout",
     "output_type": "stream",
     "text": [
      "\n",
      "c) \n",
      "      *\n",
      "     **\n",
      "    ***\n",
      "   ****\n",
      "  *****\n",
      " ******\n"
     ]
    }
   ],
   "source": [
    "# don't know how to make it so * would have spacing\n",
    "print(\"\\nc) \")\n",
    "arr_len = 6\n",
    "for i in range(arr_len):\n",
    "\t# print()\n",
    "\t# print(i)\n",
    "\t# print((arr_len-i-1),(i+1))\n",
    "\tprint((arr_len-i-1)*\" \" , end = \" \")\n",
    "\tprint((i+1) * \"*\",end = \"\\n\")"
   ]
  },
  {
   "cell_type": "code",
   "execution_count": 9,
   "id": "c9fba1da",
   "metadata": {},
   "outputs": [
    {
     "name": "stdout",
     "output_type": "stream",
     "text": [
      "\n",
      "d) \n",
      " ******\n",
      "  *****\n",
      "   ****\n",
      "    ***\n",
      "     **\n",
      "      *\n"
     ]
    }
   ],
   "source": [
    "# don't know how to make it so * would have spacing\n",
    "print(\"\\nd) \")\n",
    "arr_len = 6\n",
    "for i in range(arr_len)[::-1]:\n",
    "\t# print()\n",
    "\t# print(i)\n",
    "\t# print((arr_len-i-1),(i+1))\n",
    "\tprint((arr_len-i-1)*\" \" , end = \" \")\n",
    "\tprint((i+1) * \"*\",end = \"\\n\")"
   ]
  },
  {
   "cell_type": "code",
   "execution_count": 10,
   "id": "30c14d19",
   "metadata": {},
   "outputs": [
    {
     "name": "stdout",
     "output_type": "stream",
     "text": [
      "\n",
      "e) \n",
      "      * \n",
      "     * * \n",
      "    * * * \n",
      "   * * * * \n",
      "  * * * * * \n",
      " * * * * * * \n"
     ]
    }
   ],
   "source": [
    "# made e) by mistake while working on c) :)\n",
    "print(\"\\ne) \")\n",
    "arr_len = 6\n",
    "for i in range(arr_len):\n",
    "\t# print(i+1, arr_len-i-1)\n",
    "\t# print(type(arr_len))\n",
    "\t# print(type(i))\n",
    "\tprint((arr_len-i-1)*\" \" , (i+1) * \"* \")"
   ]
  },
  {
   "cell_type": "code",
   "execution_count": null,
   "id": "1eb9b135",
   "metadata": {},
   "outputs": [],
   "source": []
  },
  {
   "cell_type": "code",
   "execution_count": null,
   "id": "3909da4f",
   "metadata": {},
   "outputs": [],
   "source": []
  },
  {
   "cell_type": "code",
   "execution_count": null,
   "id": "120168be",
   "metadata": {},
   "outputs": [],
   "source": []
  }
 ],
 "metadata": {
  "kernelspec": {
   "display_name": "Python 3 (ipykernel)",
   "language": "python",
   "name": "python3"
  },
  "language_info": {
   "codemirror_mode": {
    "name": "ipython",
    "version": 3
   },
   "file_extension": ".py",
   "mimetype": "text/x-python",
   "name": "python",
   "nbconvert_exporter": "python",
   "pygments_lexer": "ipython3",
   "version": "3.11.2"
  }
 },
 "nbformat": 4,
 "nbformat_minor": 5
}
