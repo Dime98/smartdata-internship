{
 "cells": [
  {
   "cell_type": "code",
   "execution_count": 1,
   "id": "10cbd4bb",
   "metadata": {},
   "outputs": [],
   "source": [
    "import pandas as pd\n",
    "import numpy as np\n",
    "from matplotlib import pyplot as plt"
   ]
  },
  {
   "cell_type": "code",
   "execution_count": 2,
   "id": "bde03e04",
   "metadata": {},
   "outputs": [],
   "source": [
    "df = pd.read_csv(\"Pokemon.csv\")"
   ]
  },
  {
   "cell_type": "code",
   "execution_count": null,
   "id": "f7986d54",
   "metadata": {},
   "outputs": [],
   "source": [
    "df.info()"
   ]
  },
  {
   "cell_type": "code",
   "execution_count": null,
   "id": "4131b3c2",
   "metadata": {},
   "outputs": [],
   "source": [
    "df.isnull().all(1)"
   ]
  },
  {
   "cell_type": "code",
   "execution_count": 5,
   "id": "1ab4256d",
   "metadata": {},
   "outputs": [],
   "source": [
    "# drop columns with no data\n",
    "df.dropna(axis=1, how=\"all\", inplace=True)"
   ]
  },
  {
   "cell_type": "code",
   "execution_count": 6,
   "id": "dd60ae2d",
   "metadata": {},
   "outputs": [
    {
     "name": "stdout",
     "output_type": "stream",
     "text": [
      "Type 2: 386\n"
     ]
    }
   ],
   "source": [
    "# print columns with nan\n",
    "for i in df.columns:\n",
    "    nans = df[i].isnull().sum(axis = 0)\n",
    "    # print(nans, nans == 0, type(nans))\n",
    "    if nans != 0:\n",
    "        print(f\"{i}: {df[i].isnull().sum(axis = 0)}\")"
   ]
  },
  {
   "cell_type": "code",
   "execution_count": 7,
   "id": "a4fe218a",
   "metadata": {},
   "outputs": [],
   "source": [
    "# 4. Prepare the dataset (For example, handle the NAN values).\n",
    "\n",
    "# replace nan with col mean()\n",
    "df['Type 2'] = df['Type 2'].replace(np.nan, df['Type 2'].mean)"
   ]
  },
  {
   "cell_type": "code",
   "execution_count": 8,
   "id": "1d3204c0",
   "metadata": {},
   "outputs": [
    {
     "name": "stdout",
     "output_type": "stream",
     "text": [
      "('Total', 'Sp. Atk') 0.7472498608443279\n",
      "('Total', 'Attack') 0.7362106519949296\n",
      "('Total', 'Sp. Def') 0.7176094700519231\n",
      "('Total', 'HP') 0.6187483543135464\n",
      "('Total', 'Defense') 0.6127874293532541\n",
      "('Total', 'Speed') 0.5759426553220425\n",
      "('Defense', 'Sp. Def') 0.5107465890885576\n",
      "('Sp. Atk', 'Sp. Def') 0.5061214206155492\n",
      "('Total', 'Legendary') 0.5017583833882701\n",
      "('Sp. Atk', 'Speed') 0.4730178836686987\n",
      "('Sp. Atk', 'Legendary') 0.44890725643865786\n",
      "('Attack', 'Defense') 0.43868705511848954\n",
      "('HP', 'Attack') 0.422386028776223\n",
      "('Attack', 'Sp. Atk') 0.3963617553492319\n",
      "('Attack', 'Speed') 0.3812397392410898\n",
      "('HP', 'Sp. Def') 0.37871806861256385\n",
      "('Sp. Def', 'Legendary') 0.36393711674569007\n",
      "('HP', 'Sp. Atk') 0.3623798574071565\n",
      "('Attack', 'Legendary') 0.34540797555552816\n",
      "('Speed', 'Legendary') 0.32671529483090583\n",
      "('HP', 'Legendary') 0.2736195577129523\n",
      "('Attack', 'Sp. Def') 0.26398955110108846\n",
      "('Sp. Def', 'Speed') 0.259133113916808\n",
      "('Defense', 'Legendary') 0.24637680045403446\n",
      "('HP', 'Defense') 0.23962231884672586\n",
      "('Defense', 'Sp. Atk') 0.22354860947242247\n",
      "('HP', 'Speed') 0.1759520618789858\n",
      "('Generation', 'Legendary') 0.07979359239925093\n",
      "('HP', 'Generation') 0.05868250804074003\n",
      "('Attack', 'Generation') 0.05145133670846974\n",
      "('Total', 'Generation') 0.048384024034896146\n",
      "('Defense', 'Generation') 0.042418566576776916\n",
      "('Sp. Atk', 'Generation') 0.03643682864867455\n",
      "('Sp. Def', 'Generation') 0.028485991779451002\n",
      "('Defense', 'Speed') 0.01522659808859747\n"
     ]
    }
   ],
   "source": [
    "# 5. Find the columns that have the greatest correlation with the target column (TOP 7) and\n",
    "# create a smaller dataset including only these columns and the target one.\n",
    "\n",
    "# get highest correlation\n",
    "from itertools import combinations\n",
    "\n",
    "cols = [\"Total\", \"HP\", \"Attack\", \"Defense\", \"Sp. Atk\", \"Sp. Def\", \"Speed\", \"Generation\", \"Legendary\",]\n",
    "combinations_list = list(combinations(cols, 2))\n",
    "\n",
    "cor_dict = {}\n",
    "for i in combinations_list:\n",
    "    correlation = df[i[0]].corr(df[i[1]])\n",
    "    if correlation > .01:\n",
    "        cor_dict[i] = correlation\n",
    "\n",
    "# sort dict by value\n",
    "cor_sort_dict = dict(sorted(cor_dict.items(), key=lambda x: x[1], reverse=True))\n",
    "\n",
    "for k, v in cor_sort_dict.items():\n",
    "    print(k, v)\n"
   ]
  },
  {
   "cell_type": "code",
   "execution_count": 9,
   "id": "2766bb06",
   "metadata": {},
   "outputs": [
    {
     "name": "stdout",
     "output_type": "stream",
     "text": [
      "['Sp. Atk', 'HP', 'Attack', 'Total', 'Defense', 'Speed', 'Sp. Def']\n"
     ]
    }
   ],
   "source": [
    "# get 1st 7 elements\n",
    "top7 = []\n",
    "for i in list(cor_sort_dict.keys())[0:7]:\n",
    "    top7.append(i[0])\n",
    "    top7.append(i[1])\n",
    "\n",
    "# remove dublicates\n",
    "top7 = list(set(top7))\n",
    "print(top7)\n",
    "\n",
    "# add name??\n",
    "top7.append(\"Name\")"
   ]
  },
  {
   "cell_type": "code",
   "execution_count": 25,
   "id": "25919caa",
   "metadata": {},
   "outputs": [
    {
     "data": {
      "text/html": [
       "<div>\n",
       "<style scoped>\n",
       "    .dataframe tbody tr th:only-of-type {\n",
       "        vertical-align: middle;\n",
       "    }\n",
       "\n",
       "    .dataframe tbody tr th {\n",
       "        vertical-align: top;\n",
       "    }\n",
       "\n",
       "    .dataframe thead th {\n",
       "        text-align: right;\n",
       "    }\n",
       "</style>\n",
       "<table border=\"1\" class=\"dataframe\">\n",
       "  <thead>\n",
       "    <tr style=\"text-align: right;\">\n",
       "      <th></th>\n",
       "      <th>Name</th>\n",
       "      <th>Total</th>\n",
       "      <th>HP</th>\n",
       "      <th>Attack</th>\n",
       "      <th>Defense</th>\n",
       "      <th>Sp. Atk</th>\n",
       "      <th>Sp. Def</th>\n",
       "      <th>Speed</th>\n",
       "    </tr>\n",
       "  </thead>\n",
       "  <tbody>\n",
       "    <tr>\n",
       "      <th>0</th>\n",
       "      <td>Bulbasaur</td>\n",
       "      <td>318</td>\n",
       "      <td>45</td>\n",
       "      <td>49</td>\n",
       "      <td>49</td>\n",
       "      <td>65</td>\n",
       "      <td>65</td>\n",
       "      <td>45</td>\n",
       "    </tr>\n",
       "    <tr>\n",
       "      <th>1</th>\n",
       "      <td>Ivysaur</td>\n",
       "      <td>405</td>\n",
       "      <td>60</td>\n",
       "      <td>62</td>\n",
       "      <td>63</td>\n",
       "      <td>80</td>\n",
       "      <td>80</td>\n",
       "      <td>60</td>\n",
       "    </tr>\n",
       "    <tr>\n",
       "      <th>2</th>\n",
       "      <td>Venusaur</td>\n",
       "      <td>525</td>\n",
       "      <td>80</td>\n",
       "      <td>82</td>\n",
       "      <td>83</td>\n",
       "      <td>100</td>\n",
       "      <td>100</td>\n",
       "      <td>80</td>\n",
       "    </tr>\n",
       "    <tr>\n",
       "      <th>3</th>\n",
       "      <td>VenusaurMega Venusaur</td>\n",
       "      <td>625</td>\n",
       "      <td>80</td>\n",
       "      <td>100</td>\n",
       "      <td>123</td>\n",
       "      <td>122</td>\n",
       "      <td>120</td>\n",
       "      <td>80</td>\n",
       "    </tr>\n",
       "    <tr>\n",
       "      <th>4</th>\n",
       "      <td>Charmander</td>\n",
       "      <td>309</td>\n",
       "      <td>39</td>\n",
       "      <td>52</td>\n",
       "      <td>43</td>\n",
       "      <td>60</td>\n",
       "      <td>50</td>\n",
       "      <td>65</td>\n",
       "    </tr>\n",
       "    <tr>\n",
       "      <th>...</th>\n",
       "      <td>...</td>\n",
       "      <td>...</td>\n",
       "      <td>...</td>\n",
       "      <td>...</td>\n",
       "      <td>...</td>\n",
       "      <td>...</td>\n",
       "      <td>...</td>\n",
       "      <td>...</td>\n",
       "    </tr>\n",
       "    <tr>\n",
       "      <th>795</th>\n",
       "      <td>Diancie</td>\n",
       "      <td>600</td>\n",
       "      <td>50</td>\n",
       "      <td>100</td>\n",
       "      <td>150</td>\n",
       "      <td>100</td>\n",
       "      <td>150</td>\n",
       "      <td>50</td>\n",
       "    </tr>\n",
       "    <tr>\n",
       "      <th>796</th>\n",
       "      <td>DiancieMega Diancie</td>\n",
       "      <td>700</td>\n",
       "      <td>50</td>\n",
       "      <td>160</td>\n",
       "      <td>110</td>\n",
       "      <td>160</td>\n",
       "      <td>110</td>\n",
       "      <td>110</td>\n",
       "    </tr>\n",
       "    <tr>\n",
       "      <th>797</th>\n",
       "      <td>HoopaHoopa Confined</td>\n",
       "      <td>600</td>\n",
       "      <td>80</td>\n",
       "      <td>110</td>\n",
       "      <td>60</td>\n",
       "      <td>150</td>\n",
       "      <td>130</td>\n",
       "      <td>70</td>\n",
       "    </tr>\n",
       "    <tr>\n",
       "      <th>798</th>\n",
       "      <td>HoopaHoopa Unbound</td>\n",
       "      <td>680</td>\n",
       "      <td>80</td>\n",
       "      <td>160</td>\n",
       "      <td>60</td>\n",
       "      <td>170</td>\n",
       "      <td>130</td>\n",
       "      <td>80</td>\n",
       "    </tr>\n",
       "    <tr>\n",
       "      <th>799</th>\n",
       "      <td>Volcanion</td>\n",
       "      <td>600</td>\n",
       "      <td>80</td>\n",
       "      <td>110</td>\n",
       "      <td>120</td>\n",
       "      <td>130</td>\n",
       "      <td>90</td>\n",
       "      <td>70</td>\n",
       "    </tr>\n",
       "  </tbody>\n",
       "</table>\n",
       "<p>800 rows × 8 columns</p>\n",
       "</div>"
      ],
      "text/plain": [
       "                      Name  Total  HP  Attack  Defense  Sp. Atk  Sp. Def   \n",
       "0                Bulbasaur    318  45      49       49       65       65  \\\n",
       "1                  Ivysaur    405  60      62       63       80       80   \n",
       "2                 Venusaur    525  80      82       83      100      100   \n",
       "3    VenusaurMega Venusaur    625  80     100      123      122      120   \n",
       "4               Charmander    309  39      52       43       60       50   \n",
       "..                     ...    ...  ..     ...      ...      ...      ...   \n",
       "795                Diancie    600  50     100      150      100      150   \n",
       "796    DiancieMega Diancie    700  50     160      110      160      110   \n",
       "797    HoopaHoopa Confined    600  80     110       60      150      130   \n",
       "798     HoopaHoopa Unbound    680  80     160       60      170      130   \n",
       "799              Volcanion    600  80     110      120      130       90   \n",
       "\n",
       "     Speed  \n",
       "0       45  \n",
       "1       60  \n",
       "2       80  \n",
       "3       80  \n",
       "4       65  \n",
       "..     ...  \n",
       "795     50  \n",
       "796    110  \n",
       "797     70  \n",
       "798     80  \n",
       "799     70  \n",
       "\n",
       "[800 rows x 8 columns]"
      ]
     },
     "execution_count": 25,
     "metadata": {},
     "output_type": "execute_result"
    }
   ],
   "source": [
    "# make copy of original df, delete all but top 7 + name\n",
    "df2 = df[:]\n",
    "for col in df2.columns:\n",
    "    if col not in top7:\n",
    "        # print(col)\n",
    "        df2 = df2.drop(col, axis=1)\n",
    "df2"
   ]
  },
  {
   "cell_type": "code",
   "execution_count": 11,
   "id": "6c8aeb37",
   "metadata": {},
   "outputs": [
    {
     "data": {
      "text/plain": [
       "Text(0.5, -0.3, 'Total/HP')"
      ]
     },
     "execution_count": 11,
     "metadata": {},
     "output_type": "execute_result"
    },
    {
     "data": {
      "image/png": "[encoded data removed]",
      "text/plain": [
       "<Figure size 640x480 with 4 Axes>"
      ]
     },
     "metadata": {},
     "output_type": "display_data"
    }
   ],
   "source": [
    "# 6. Plot some semnificative data tha you consider relevant to be shown (at least 3). Defend\n",
    "# your choice.\n",
    "\n",
    "# ('Total', 'Sp. Atk') \t    0.7472498608443279\n",
    "# ('Total', 'Attack') \t    0.7362106519949296\n",
    "# ('Total', 'Sp. Def') \t    0.7176094700519231\n",
    "# ('Total', 'HP') \t\t    0.6187483543135464\n",
    "# ('Total', 'Defense') \t    0.6127874293532541\n",
    "# ('Total', 'Speed') \t    0.5759426553220425\n",
    "# ('Defense', 'Sp. Def')    0.5107465890885576\n",
    "# ('Sp. Atk', 'Sp. Def')    0.5061214206155492\n",
    "\n",
    "# plt.scatter(df2[\"Total\"], df2[\"Attack\"])\n",
    "# plt.scatter(df2[\"Total\"], df2[\"Attack\"])\n",
    "\n",
    "fig, axs = plt.subplots(2, 2)\n",
    "\n",
    "axs[0, 0].scatter(df2[\"Total\"], df2[\"Sp. Atk\"], color=\"green\")\n",
    "axs[0, 0].set_title('Total/Sp. Atk')\n",
    "\n",
    "axs[0, 1].scatter(df2[\"Total\"], df2[\"Attack\"], color=\"red\")\n",
    "axs[0, 1].set_title('Total/Attack')\n",
    "\n",
    "axs[1, 0].scatter(df2[\"Total\"], df2[\"Sp. Def\"], color=\"orange\")\n",
    "axs[1, 0].set_title('Total/Sp. Def',y=-.3)\n",
    "\n",
    "axs[1, 1].scatter(df2[\"Total\"], df2[\"HP\"])\n",
    "axs[1, 1].set_title('Total/HP',y=-.3)\n"
   ]
  },
  {
   "attachments": {},
   "cell_type": "markdown",
   "id": "e5f4d8e7",
   "metadata": {},
   "source": [
    "### There is \"almost\" linear correlation, strongest correlation being 'Total' and 'Sp. Atk' w/correlation value of 0.74.\n",
    "### 2nd strongest correlation is between 'Total' and 'Attack'.\n",
    "### To sum it all up, the higher 'Special Attack' the higher 'Total' score is, followed by 'Attack', 'Sp. Def', 'HP', 'Defense', 'Speed' and so on."
   ]
  },
  {
   "cell_type": "code",
   "execution_count": null,
   "id": "6247b909",
   "metadata": {},
   "outputs": [],
   "source": []
  },
  {
   "attachments": {},
   "cell_type": "markdown",
   "id": "d7f26919",
   "metadata": {},
   "source": [
    "### Identifying the outliers Using visualizations method"
   ]
  },
  {
   "cell_type": "code",
   "execution_count": 12,
   "id": "260bc37a",
   "metadata": {},
   "outputs": [
    {
     "data": {
      "text/plain": [
       "<matplotlib.collections.PathCollection at 0x1e58f4992d0>"
      ]
     },
     "execution_count": 12,
     "metadata": {},
     "output_type": "execute_result"
    },
    {
     "data": {
      "image/png": "[encoded data removed]",
      "text/plain": [
       "<Figure size 640x480 with 1 Axes>"
      ]
     },
     "metadata": {},
     "output_type": "display_data"
    }
   ],
   "source": [
    "plt.scatter(df2[\"Defense\"],df2[\"Defense\"])"
   ]
  },
  {
   "attachments": {},
   "cell_type": "markdown",
   "id": "6025604b",
   "metadata": {},
   "source": [
    "### Identifying the outliers with interquartile range method"
   ]
  },
  {
   "cell_type": "code",
   "execution_count": 13,
   "id": "8a8e519d",
   "metadata": {},
   "outputs": [],
   "source": [
    "def interquartile_range_method(df_col):\n",
    "    sort_df_col = df_col.sort_values()\n",
    "\n",
    "    q1 = sort_df_col.quantile(0.25)\n",
    "    q3 = sort_df_col.quantile(0.75)\n",
    "\n",
    "    iqr = q3 - q1\n",
    "\n",
    "    upper_fence = q3 + (1.5 * iqr)\n",
    "    lower_fence = q1 - (1.5 * iqr)\n",
    "\n",
    "    outliers = ((sort_df_col < lower_fence) | (sort_df_col > upper_fence)).sum()\n",
    "\n",
    "    print(f\"interquartile_range [{sort_df_col.name}] outliers: {outliers}\")\n",
    "    return outliers\n",
    "# interquartile_range_method(df2[\"Attack\"])\n"
   ]
  },
  {
   "cell_type": "code",
   "execution_count": 14,
   "id": "ed6d28ed",
   "metadata": {},
   "outputs": [
    {
     "name": "stdout",
     "output_type": "stream",
     "text": [
      "interquartile_range [HP] outliers: 19\n",
      "interquartile_range [Attack] outliers: 7\n",
      "interquartile_range [Defense] outliers: 13\n",
      "interquartile_range [Sp. Atk] outliers: 10\n",
      "interquartile_range [Sp. Def] outliers: 7\n",
      "interquartile_range [Speed] outliers: 2\n"
     ]
    },
    {
     "data": {
      "text/plain": [
       "2"
      ]
     },
     "execution_count": 14,
     "metadata": {},
     "output_type": "execute_result"
    }
   ],
   "source": [
    "# interquartile_range_method(df2[\"Total\"])\n",
    "interquartile_range_method(df2[\"HP\"])\n",
    "interquartile_range_method(df2[\"Attack\"])\n",
    "interquartile_range_method(df2[\"Defense\"])\n",
    "interquartile_range_method(df2[\"Sp. Atk\"])\n",
    "interquartile_range_method(df2[\"Sp. Def\"])\n",
    "interquartile_range_method(df2[\"Speed\"])"
   ]
  },
  {
   "cell_type": "code",
   "execution_count": null,
   "id": "ec560343",
   "metadata": {},
   "outputs": [],
   "source": [
    "# from sklearn.ensemble import IsolationForest\n",
    "# import numpy as np\n",
    "# np.random.seed(1)\n",
    "# random_data = np.random.randn(50000,2)  * 20 + 20\n",
    "\n",
    "# clf = IsolationForest( behaviour = 'new', max_samples=100, random_state = 1, contamination= 'auto')\n",
    "# preds = clf.fit_predict(random_data)\n",
    "# preds"
   ]
  },
  {
   "attachments": {},
   "cell_type": "markdown",
   "id": "f96c0257",
   "metadata": {},
   "source": [
    "### Identifying the outliers Using Statistical outlier detection"
   ]
  },
  {
   "cell_type": "code",
   "execution_count": 16,
   "id": "43156803",
   "metadata": {},
   "outputs": [],
   "source": [
    "def statistical_outlier_detection(df_col, get=False):\n",
    "    data = df_col.to_numpy()\n",
    "    # print(data.to_numpy())\n",
    "\n",
    "    mean = np.mean(data)\n",
    "    sigma = np.std(data)     # standard deviation\n",
    "    threshold = 3\n",
    "\n",
    "    z = (data - mean)\n",
    "    z /= sigma\n",
    "\n",
    "    outliers = data[z > threshold]\n",
    "\n",
    "    print(f\"statistical_outlier [{df_col.name}] outliers: {len(outliers)}\")\n",
    "    if get == False:\n",
    "        return len(outliers)\n",
    "    else:\n",
    "        return outliers"
   ]
  },
  {
   "cell_type": "code",
   "execution_count": 17,
   "id": "78156401",
   "metadata": {},
   "outputs": [
    {
     "name": "stdout",
     "output_type": "stream",
     "text": [
      "statistical_outlier [HP] outliers: 10\n",
      "statistical_outlier [Attack] outliers: 5\n",
      "statistical_outlier [Defense] outliers: 10\n",
      "statistical_outlier [Sp. Atk] outliers: 5\n",
      "statistical_outlier [Sp. Def] outliers: 4\n",
      "statistical_outlier [Speed] outliers: 2\n"
     ]
    },
    {
     "data": {
      "text/plain": [
       "2"
      ]
     },
     "execution_count": 17,
     "metadata": {},
     "output_type": "execute_result"
    }
   ],
   "source": [
    "# statistical_outlier_detection(df2[\"Total\"])\n",
    "statistical_outlier_detection(df2[\"HP\"])\n",
    "statistical_outlier_detection(df2[\"Attack\"])\n",
    "statistical_outlier_detection(df2[\"Defense\"])\n",
    "statistical_outlier_detection(df2[\"Sp. Atk\"])\n",
    "statistical_outlier_detection(df2[\"Sp. Def\"])\n",
    "statistical_outlier_detection(df2[\"Speed\"])"
   ]
  },
  {
   "attachments": {},
   "cell_type": "markdown",
   "id": "19b2769e",
   "metadata": {},
   "source": [
    "### Identifying the outliers using Boxplots"
   ]
  },
  {
   "cell_type": "code",
   "execution_count": 18,
   "id": "302bcfbe",
   "metadata": {},
   "outputs": [
    {
     "data": {
      "text/plain": [
       "<Axes: >"
      ]
     },
     "execution_count": 18,
     "metadata": {},
     "output_type": "execute_result"
    },
    {
     "data": {
      "image/png": "[encoded data removed]",
      "text/plain": [
       "<Figure size 640x480 with 1 Axes>"
      ]
     },
     "metadata": {},
     "output_type": "display_data"
    }
   ],
   "source": [
    "import seaborn as sns\n",
    "import matplotlib.pyplot as plt\n",
    "\n",
    "sns.boxplot(data=df2[\"HP\"])"
   ]
  },
  {
   "cell_type": "code",
   "execution_count": 28,
   "id": "4b38e05d",
   "metadata": {},
   "outputs": [],
   "source": [
    "# from sklearn.ensemble import IsolationForest\n",
    "# import numpy as np\n",
    "# np.random.seed(1)\n",
    "# random_data = np.random.randn(50000,2)  * 20 + 20\n",
    "# random_data = df2[\"HP\"]\n",
    "# clf = IsolationForest(  max_samples=100, random_state = 1, contamination= 'auto')\n",
    "# preds = clf.fit_predict(random_data)\n",
    "# preds"
   ]
  },
  {
   "cell_type": "code",
   "execution_count": 20,
   "id": "032f494a",
   "metadata": {},
   "outputs": [
    {
     "name": "stdout",
     "output_type": "stream",
     "text": [
      "statistical_outlier [HP] outliers: 10\n",
      "statistical_outlier [Attack] outliers: 5\n",
      "statistical_outlier [Defense] outliers: 10\n",
      "interquartile_range [HP] outliers: 19\n",
      "interquartile_range [Attack] outliers: 7\n",
      "interquartile_range [Defense] outliers: 13\n"
     ]
    },
    {
     "data": {
      "text/plain": [
       "<matplotlib.legend.Legend at 0x1e5af46df50>"
      ]
     },
     "execution_count": 20,
     "metadata": {},
     "output_type": "execute_result"
    },
    {
     "data": {
      "image/png": "[encoded data removed]",
      "text/plain": [
       "<Figure size 640x480 with 1 Axes>"
      ]
     },
     "metadata": {},
     "output_type": "display_data"
    }
   ],
   "source": [
    "stat = [\n",
    "    statistical_outlier_detection(df2[\"HP\"]),\n",
    "    statistical_outlier_detection(df2[\"Attack\"]),\n",
    "    statistical_outlier_detection(df2[\"Defense\"]),\n",
    "]\n",
    "inter = [\n",
    "    interquartile_range_method(df2[\"HP\"]),\n",
    "    interquartile_range_method(df2[\"Attack\"]),\n",
    "    interquartile_range_method(df2[\"Defense\"]),\n",
    "]\n",
    "x = np.arange(len(stat))\n",
    "plt.bar(x+.2, stat, width=.4, label=\"statistical_outlier_detection\")\n",
    "plt.bar(x-.2, inter, width=.4, label=\"interquartile_range_method\")\n",
    "plt.legend()"
   ]
  },
  {
   "cell_type": "code",
   "execution_count": null,
   "id": "5fc495dd",
   "metadata": {},
   "outputs": [],
   "source": [
    "# [-] not working, cannot change value by index\n",
    "\n",
    "outliers = statistical_outlier_detection(df2[\"HP\"], True)\n",
    "print(outliers)\n",
    "\n",
    "# for new_value, index in zip(outliers, df.index):\n",
    "#     print()\n",
    "#     print(new_value)\n",
    "#     print(index)\n",
    "#     df2.at[index, 'HP'] = 9999\n",
    "\n",
    "indx = [df2[df2['HP'] == i].index.astype('int8') for i in outliers]\n",
    "print(indx)\n",
    "for i in indx:\n",
    "    print()\n",
    "    print(i, i[0], type(i))\n",
    "    column_index = df.columns.get_loc('HP')\n",
    "    # df2.at[i,'HP'] = [999.9]\n",
    "\n",
    "    # value doesn't want to change\n",
    "    print(df2.iloc[i, column_index])\n",
    "    df2.iloc[i, column_index] = np.nan\n",
    "    print(df2.iloc[i, column_index])\n",
    "\n",
    "# for i in outliers:\n",
    "#     print()\n",
    "#     print(f\"i    {i}\")\n",
    "\n",
    "#     indx = indx.astype('int64')\n",
    "#     column_index = df.columns.get_loc('HP')\n",
    "\n",
    "#     print(f\"indx         {indx} {type((indx))}\")\n",
    "#     print(f\"column_index {column_index} \")\n",
    "#     print(df2.iloc[df2[df2['HP'] == i].index])\n",
    "    \n",
    "#     # df2.at[indx,'HP'] = [999.9]\n",
    "#     # df2.iloc[indx]['HP'] = 9999\n",
    "    \n",
    "#     print(f\"hp {df2.iloc[indx]['HP']}\")\n",
    "\n",
    "#     # df2.iloc[indx, column_index] = 999\n",
    "#     df2.at[indx,\"HP\"]\n",
    "    \n",
    "#     print(f\"hp {df2.iloc[indx]['HP']}\")\n",
    "\n",
    "df2[\"HP\"].max()\n",
    "# df2[\"HP\"]"
   ]
  },
  {
   "cell_type": "code",
   "execution_count": 22,
   "id": "2f8b35f7",
   "metadata": {},
   "outputs": [
    {
     "data": {
      "text/plain": [
       "<matplotlib.collections.PathCollection at 0x1e5b05b2b90>"
      ]
     },
     "execution_count": 22,
     "metadata": {},
     "output_type": "execute_result"
    },
    {
     "data": {
      "image/png": "[encoded data removed]",
      "text/plain": [
       "<Figure size 640x480 with 1 Axes>"
      ]
     },
     "metadata": {},
     "output_type": "display_data"
    }
   ],
   "source": [
    "# 10. Modify the contamination value for each algorithm, plot thegraph of dependence of the\n",
    "# outliers number on it and make some cocnclusions.\n",
    "\n",
    "from sklearn.ensemble import IsolationForest\n",
    "x = df[\"HP\"].values.reshape(-1, 1)  \n",
    "# x = x.to_numpy()\n",
    "x.shape\n",
    "x\n",
    "\n",
    "clf = IsolationForest(contamination=0.1).fit(x)\n",
    "clf.predict(x)\n",
    "clf\n",
    "\n",
    "predictions = clf.predict(x)\n",
    "predictions\n",
    "\n",
    "# plt.scatter(df.index, df[\"HP\"], color='red')\n",
    "# plt.scatter(df.index, predictions)\n",
    "\n",
    "plt.scatter(df.index, df[\"HP\"], c=predictions)"
   ]
  },
  {
   "cell_type": "code",
   "execution_count": 31,
   "id": "4e530da7",
   "metadata": {},
   "outputs": [
    {
     "name": "stdout",
     "output_type": "stream",
     "text": [
      "statistical_outlier [HP] outliers: 0\n",
      "[]\n",
      "statistical_outlier [HP] outliers: 0\n"
     ]
    },
    {
     "data": {
      "text/plain": [
       "0"
      ]
     },
     "execution_count": 31,
     "metadata": {},
     "output_type": "execute_result"
    }
   ],
   "source": [
    "# 11. Try to come up with some methods of outliers removing. Test your guesses and make some\n",
    "# relevant conclusions.\n",
    "# more times you run this cell, less outliers there would be\n",
    "\n",
    "# delete outliers\n",
    "outliers = statistical_outlier_detection(df2[\"HP\"], True)\n",
    "\n",
    "print(outliers)\n",
    "\n",
    "for i in outliers:\n",
    "    # print()\n",
    "    # print(i)\n",
    "    # print( df2[df2[\"HP\"] == i] )\n",
    "    # print( df2[df2[\"HP\"] == i].index )\n",
    "\n",
    "    df2.drop(df2[df2['HP'] == i].index, inplace = True)\n",
    "\n",
    "    # print(df2[\"HP\"].iloc[i])\n",
    "\n",
    "statistical_outlier_detection(df2[\"HP\"])\n",
    "# df2[\"HP\"].iloc[]\n",
    "# print( df2.iloc[250] )"
   ]
  },
  {
   "cell_type": "code",
   "execution_count": 24,
   "id": "aa077b4f",
   "metadata": {},
   "outputs": [
    {
     "name": "stdout",
     "output_type": "stream",
     "text": [
      "statistical_outlier [HP] outliers: 3\n",
      "interquartile_range [HP] outliers: 9\n",
      "statistical_outlier [Attack] outliers: 5\n",
      "interquartile_range [Attack] outliers: 7\n",
      "statistical_outlier [Defense] outliers: 10\n",
      "interquartile_range [Defense] outliers: 13\n",
      "statistical_outlier [Sp. Atk] outliers: 0\n",
      "interquartile_range [Sp. Atk] outliers: 10\n",
      "statistical_outlier [Sp. Def] outliers: 4\n",
      "interquartile_range [Sp. Def] outliers: 7\n",
      "statistical_outlier [Speed] outliers: 2\n",
      "interquartile_range [Speed] outliers: 2\n"
     ]
    },
    {
     "data": {
      "text/html": [
       "<div>\n",
       "<style scoped>\n",
       "    .dataframe tbody tr th:only-of-type {\n",
       "        vertical-align: middle;\n",
       "    }\n",
       "\n",
       "    .dataframe tbody tr th {\n",
       "        vertical-align: top;\n",
       "    }\n",
       "\n",
       "    .dataframe thead th {\n",
       "        text-align: right;\n",
       "    }\n",
       "</style>\n",
       "<table border=\"1\" class=\"dataframe\">\n",
       "  <thead>\n",
       "    <tr style=\"text-align: right;\">\n",
       "      <th></th>\n",
       "      <th>col</th>\n",
       "      <th>statistical</th>\n",
       "      <th>interquartile</th>\n",
       "    </tr>\n",
       "  </thead>\n",
       "  <tbody>\n",
       "    <tr>\n",
       "      <th>0</th>\n",
       "      <td>HP</td>\n",
       "      <td>3</td>\n",
       "      <td>9</td>\n",
       "    </tr>\n",
       "    <tr>\n",
       "      <th>1</th>\n",
       "      <td>Attack</td>\n",
       "      <td>5</td>\n",
       "      <td>7</td>\n",
       "    </tr>\n",
       "    <tr>\n",
       "      <th>2</th>\n",
       "      <td>Defense</td>\n",
       "      <td>10</td>\n",
       "      <td>13</td>\n",
       "    </tr>\n",
       "    <tr>\n",
       "      <th>3</th>\n",
       "      <td>Sp. Atk</td>\n",
       "      <td>0</td>\n",
       "      <td>10</td>\n",
       "    </tr>\n",
       "    <tr>\n",
       "      <th>4</th>\n",
       "      <td>Sp. Def</td>\n",
       "      <td>4</td>\n",
       "      <td>7</td>\n",
       "    </tr>\n",
       "    <tr>\n",
       "      <th>5</th>\n",
       "      <td>Speed</td>\n",
       "      <td>2</td>\n",
       "      <td>2</td>\n",
       "    </tr>\n",
       "  </tbody>\n",
       "</table>\n",
       "</div>"
      ],
      "text/plain": [
       "       col  statistical  interquartile\n",
       "0       HP            3              9\n",
       "1   Attack            5              7\n",
       "2  Defense           10             13\n",
       "3  Sp. Atk            0             10\n",
       "4  Sp. Def            4              7\n",
       "5    Speed            2              2"
      ]
     },
     "execution_count": 24,
     "metadata": {},
     "output_type": "execute_result"
    }
   ],
   "source": [
    "# . Create a table that shows thenumber of outliers in dependence of the used algorithm. Try to\n",
    "# identify the most accurate one in your opinion.\n",
    "\n",
    "data = [\n",
    "    [\"HP\", \n",
    "        statistical_outlier_detection(df2[\"HP\"]),\n",
    "        interquartile_range_method(df2[\"HP\"]),\n",
    "    ],\n",
    "    [\"Attack\", \n",
    "        statistical_outlier_detection(df2[\"Attack\"]),\n",
    "        interquartile_range_method(df2[\"Attack\"]),\n",
    "    ],\n",
    "    [\"Defense\", \n",
    "        statistical_outlier_detection(df2[\"Defense\"]),\n",
    "        interquartile_range_method(df2[\"Defense\"]),\n",
    "    ],\n",
    "    [\"Sp. Atk\", \n",
    "        statistical_outlier_detection(df2[\"Sp. Atk\"]),\n",
    "        interquartile_range_method(df2[\"Sp. Atk\"]),\n",
    "    ],\n",
    "    [\"Sp. Def\", \n",
    "        statistical_outlier_detection(df2[\"Sp. Def\"]),\n",
    "        interquartile_range_method(df2[\"Sp. Def\"]),\n",
    "    ],\n",
    "    [\"Speed\", \n",
    "        statistical_outlier_detection(df2[\"Speed\"]),\n",
    "        interquartile_range_method(df2[\"Speed\"]),\n",
    "    ],\n",
    "]\n",
    "\n",
    "df3 = pd.DataFrame(data, columns=[\"col\",\"statistical\",\"interquartile\"])\n",
    "df3"
   ]
  }
 ],
 "metadata": {
  "kernelspec": {
   "display_name": "Python 3 (ipykernel)",
   "language": "python",
   "name": "python3"
  },
  "language_info": {
   "codemirror_mode": {
    "name": "ipython",
    "version": 3
   },
   "file_extension": ".py",
   "mimetype": "text/x-python",
   "name": "python",
   "nbconvert_exporter": "python",
   "pygments_lexer": "ipython3",
   "version": "3.11.2"
  }
 },
 "nbformat": 4,
 "nbformat_minor": 5
}
