{
 "cells": [
  {
   "attachments": {},
   "cell_type": "markdown",
   "id": "4f32a800",
   "metadata": {},
   "source": [
    "# 15. Create a normalized form of iris's sepallength whose values range exactly between 0 and 1 so that the minimum has value 0 and maximum has value 1."
   ]
  },
  {
   "cell_type": "code",
   "execution_count": null,
   "id": "ec1b6547",
   "metadata": {},
   "outputs": [],
   "source": [
    "import pandas as pd\n",
    "import numpy as np\n"
   ]
  },
  {
   "cell_type": "code",
   "execution_count": null,
   "id": "abe37f6e",
   "metadata": {},
   "outputs": [],
   "source": [
    "url = 'https://archive.ics.uci.edu/ml/machine-learning-databases/iris/iris.data'\n",
    "sepallength = np.genfromtxt(url, delimiter=',', dtype='float', usecols=[0])"
   ]
  },
  {
   "cell_type": "code",
   "execution_count": null,
   "id": "d3287ee8",
   "metadata": {},
   "outputs": [],
   "source": [
    "sepallength_norm = sepallength / np.linalg.norm(sepallength)\n",
    "print(sepallength, len(sepallength))\n",
    "print(sepallength_norm, len(sepallength_norm))"
   ]
  }
 ],
 "metadata": {
  "kernelspec": {
   "display_name": "Python 3 (ipykernel)",
   "language": "python",
   "name": "python3"
  },
  "language_info": {
   "codemirror_mode": {
    "name": "ipython",
    "version": 3
   },
   "file_extension": ".py",
   "mimetype": "text/x-python",
   "name": "python",
   "nbconvert_exporter": "python",
   "pygments_lexer": "ipython3",
   "version": "3.11.2"
  }
 },
 "nbformat": 4,
 "nbformat_minor": 5
}
