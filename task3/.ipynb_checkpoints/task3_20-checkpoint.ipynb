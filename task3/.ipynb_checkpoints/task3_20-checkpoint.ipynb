{
 "cells": [
  {
   "cell_type": "markdown",
   "id": "4f32a800",
   "metadata": {},
   "source": [
    "# 20. In df, use apply method to replace the missing values in Min.Price with the column's mean and those in Max.Price with the column's median."
   ]
  },
  {
   "cell_type": "code",
   "execution_count": null,
   "id": "ec1b6547",
   "metadata": {},
   "outputs": [],
   "source": [
    "import pandas as pd\n",
    "import numpy as np\n"
   ]
  },
  {
   "cell_type": "code",
   "execution_count": null,
   "id": "abe37f6e",
   "metadata": {},
   "outputs": [],
   "source": [
    "df = pd.read_csv('https://raw.githubusercontent.com/selva86/datasets/master/Cars93_miss.csv')"
   ]
  },
  {
   "cell_type": "code",
   "execution_count": null,
   "id": "a909d60a",
   "metadata": {},
   "outputs": [],
   "source": [
    "df[\"Min.Price\"].value_counts()"
   ]
  },
  {
   "cell_type": "code",
   "execution_count": null,
   "id": "d3d0cbe2",
   "metadata": {},
   "outputs": [],
   "source": [
    "df['Min.Price'] "
   ]
  },
  {
   "cell_type": "code",
   "execution_count": null,
   "id": "31b9024e",
   "metadata": {},
   "outputs": [],
   "source": [
    "def repl_nan(val, replace_with):\n",
    "    # print()\n",
    "    # print(f\"val \t{val} {type(val)}\")\n",
    "    # print(f\"np.nan  {np.nan} {type(np.nan)}\")\n",
    "    # print(np.isnan(val), val == np.nan)\n",
    "    # print(f\"replace_with {replace_with}\")\n",
    "    if np.isnan(val) or val == None:\n",
    "        print(\"\\t\",val,replace_with)\n",
    "        return \"mean\"\n",
    "\n",
    "mean_val = df['Min.Price'].mean()\n",
    "df['Min.Price'] = df['Min.Price'].apply(lambda x : repl_nan(x, mean_val))\n",
    "# df['Min.Price'].mean()\n",
    "df['Min.Price']"
   ]
  },
  {
   "cell_type": "code",
   "execution_count": null,
   "id": "5ca6aafe",
   "metadata": {},
   "outputs": [],
   "source": []
  },
  {
   "cell_type": "code",
   "execution_count": null,
   "id": "136033a8",
   "metadata": {},
   "outputs": [],
   "source": [
    "df['Max.Price'] = df['Max.Price'].apply(lambda x : repl_nan( x, df['Max.Price'].median() ))\n",
    "\n",
    "df['Max.Price']"
   ]
  },
  {
   "cell_type": "code",
   "execution_count": null,
   "id": "4f116c0f",
   "metadata": {},
   "outputs": [],
   "source": [
    "np.nan\n",
    "pd.NaT"
   ]
  }
 ],
 "metadata": {
  "kernelspec": {
   "display_name": "Python 3 (ipykernel)",
   "language": "python",
   "name": "python3"
  },
  "language_info": {
   "codemirror_mode": {
    "name": "ipython",
    "version": 3
   },
   "file_extension": ".py",
   "mimetype": "text/x-python",
   "name": "python",
   "nbconvert_exporter": "python",
   "pygments_lexer": "ipython3",
   "version": "3.11.2"
  }
 },
 "nbformat": 4,
 "nbformat_minor": 5
}
