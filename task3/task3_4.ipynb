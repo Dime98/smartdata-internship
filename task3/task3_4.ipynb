{
 "cells": [
  {
   "attachments": {},
   "cell_type": "markdown",
   "id": "4f32a800",
   "metadata": {},
   "source": [
    "# 4. Give a name to the series ser calling it with your favourite movie/book/series/cartoon character."
   ]
  },
  {
   "cell_type": "code",
   "execution_count": null,
   "id": "ec1b6547",
   "metadata": {},
   "outputs": [],
   "source": [
    "import pandas as pd"
   ]
  },
  {
   "cell_type": "code",
   "execution_count": null,
   "id": "62f86842",
   "metadata": {},
   "outputs": [],
   "source": [
    "ser = pd.Series([\n",
    "    \"Guardians of the Galaxy\",\n",
    "    \"Spider-Man: Across the Spider-Verse\",\n",
    "    \"Fast X\",\n",
    "],\n",
    "name = \"movies\")\n",
    "ser\n"
   ]
  },
  {
   "cell_type": "code",
   "execution_count": null,
   "id": "15c72de4",
   "metadata": {},
   "outputs": [],
   "source": [
    "# df = ser.to_frame()\n",
    "# df"
   ]
  }
 ],
 "metadata": {
  "kernelspec": {
   "display_name": "Python 3 (ipykernel)",
   "language": "python",
   "name": "python3"
  },
  "language_info": {
   "codemirror_mode": {
    "name": "ipython",
    "version": 3
   },
   "file_extension": ".py",
   "mimetype": "text/x-python",
   "name": "python",
   "nbconvert_exporter": "python",
   "pygments_lexer": "ipython3",
   "version": "3.11.2"
  }
 },
 "nbformat": 4,
 "nbformat_minor": 5
}
