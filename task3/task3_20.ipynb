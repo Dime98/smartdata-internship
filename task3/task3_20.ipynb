{
 "cells": [
  {
   "attachments": {},
   "cell_type": "markdown",
   "id": "4f32a800",
   "metadata": {},
   "source": [
    "# 20. In df, use apply method to replace the missing values in Min.Price with the column's mean and those in Max.Price with the column's median."
   ]
  },
  {
   "cell_type": "code",
   "execution_count": 98,
   "id": "ec1b6547",
   "metadata": {},
   "outputs": [],
   "source": [
    "import pandas as pd\n",
    "import numpy as np\n"
   ]
  },
  {
   "cell_type": "code",
   "execution_count": 99,
   "id": "abe37f6e",
   "metadata": {},
   "outputs": [],
   "source": [
    "df = pd.read_csv('https://raw.githubusercontent.com/selva86/datasets/master/Cars93_miss.csv')"
   ]
  },
  {
   "cell_type": "code",
   "execution_count": 100,
   "id": "a909d60a",
   "metadata": {},
   "outputs": [
    {
     "data": {
      "text/plain": [
       "Min.Price\n",
       "8.4     3\n",
       "14.2    3\n",
       "7.3     2\n",
       "13.0    2\n",
       "8.7     2\n",
       "       ..\n",
       "9.0     1\n",
       "9.1     1\n",
       "29.2    1\n",
       "45.4    1\n",
       "24.8    1\n",
       "Name: count, Length: 72, dtype: int64"
      ]
     },
     "execution_count": 100,
     "metadata": {},
     "output_type": "execute_result"
    }
   ],
   "source": [
    "df[\"Min.Price\"].value_counts()"
   ]
  },
  {
   "cell_type": "code",
   "execution_count": 101,
   "id": "d3d0cbe2",
   "metadata": {},
   "outputs": [
    {
     "data": {
      "text/plain": [
       "0     12.9\n",
       "1     29.2\n",
       "2     25.9\n",
       "3      NaN\n",
       "4      NaN\n",
       "      ... \n",
       "88    16.6\n",
       "89    17.6\n",
       "90    22.9\n",
       "91    21.8\n",
       "92    24.8\n",
       "Name: Min.Price, Length: 93, dtype: float64"
      ]
     },
     "execution_count": 101,
     "metadata": {},
     "output_type": "execute_result"
    }
   ],
   "source": [
    "df['Min.Price'] "
   ]
  },
  {
   "cell_type": "code",
   "execution_count": 102,
   "id": "31b9024e",
   "metadata": {},
   "outputs": [
    {
     "data": {
      "text/plain": [
       "0     12.900000\n",
       "1     29.200000\n",
       "2     25.900000\n",
       "3     17.118605\n",
       "4     17.118605\n",
       "        ...    \n",
       "88    16.600000\n",
       "89    17.600000\n",
       "90    22.900000\n",
       "91    21.800000\n",
       "92    24.800000\n",
       "Name: Min.Price, Length: 93, dtype: float64"
      ]
     },
     "execution_count": 102,
     "metadata": {},
     "output_type": "execute_result"
    }
   ],
   "source": [
    "def repl_nan(val, replace_with):\n",
    "    # print()\n",
    "    # print(f\"val   {val} {type(val)}\")\n",
    "    # # print(f\"np.nan  {np.nan} {type(np.nan)}\")\n",
    "    # # print(np.isnan(val), val == np.nan)\n",
    "    # # print(f\"replace_with {replace_with}\")\n",
    "    if np.isnan(val) or val == None:\n",
    "        # print(\"\\t\",val,replace_with)\n",
    "        val = replace_with\n",
    "    return val\n",
    "\n",
    "mean_val = df['Min.Price'].mean()\n",
    "df['Min.Price'] = df['Min.Price'].apply(lambda x : repl_nan(x, mean_val))\n",
    "# df['Min.Price'].mean()\n",
    "df['Min.Price']"
   ]
  },
  {
   "cell_type": "code",
   "execution_count": 103,
   "id": "5ca6aafe",
   "metadata": {},
   "outputs": [
    {
     "data": {
      "text/plain": [
       "Min.Price\n",
       "17.118605    7\n",
       "8.400000     3\n",
       "14.200000    3\n",
       "7.300000     2\n",
       "13.000000    2\n",
       "            ..\n",
       "9.000000     1\n",
       "29.200000    1\n",
       "12.400000    1\n",
       "45.400000    1\n",
       "24.800000    1\n",
       "Name: count, Length: 73, dtype: int64"
      ]
     },
     "execution_count": 103,
     "metadata": {},
     "output_type": "execute_result"
    }
   ],
   "source": [
    "df['Min.Price'].value_counts()"
   ]
  },
  {
   "cell_type": "code",
   "execution_count": 104,
   "id": "136033a8",
   "metadata": {},
   "outputs": [
    {
     "data": {
      "text/plain": [
       "0     18.80\n",
       "1     38.70\n",
       "2     32.30\n",
       "3     44.60\n",
       "4     19.15\n",
       "      ...  \n",
       "88    22.70\n",
       "89    22.40\n",
       "90    23.70\n",
       "91    23.50\n",
       "92    28.50\n",
       "Name: Max.Price, Length: 93, dtype: float64"
      ]
     },
     "execution_count": 104,
     "metadata": {},
     "output_type": "execute_result"
    }
   ],
   "source": [
    "df['Max.Price'] = df['Max.Price'].apply(lambda x : repl_nan( x, df['Max.Price'].median() ))\n",
    "df['Max.Price']"
   ]
  },
  {
   "cell_type": "code",
   "execution_count": 105,
   "id": "4f116c0f",
   "metadata": {},
   "outputs": [
    {
     "data": {
      "text/plain": [
       "NaT"
      ]
     },
     "execution_count": 105,
     "metadata": {},
     "output_type": "execute_result"
    }
   ],
   "source": [
    "np.nan\n",
    "pd.NaT"
   ]
  }
 ],
 "metadata": {
  "kernelspec": {
   "display_name": "Python 3 (ipykernel)",
   "language": "python",
   "name": "python3"
  },
  "language_info": {
   "codemirror_mode": {
    "name": "ipython",
    "version": 3
   },
   "file_extension": ".py",
   "mimetype": "text/x-python",
   "name": "python",
   "nbconvert_exporter": "python",
   "pygments_lexer": "ipython3",
   "version": "3.11.2"
  }
 },
 "nbformat": 4,
 "nbformat_minor": 5
}
