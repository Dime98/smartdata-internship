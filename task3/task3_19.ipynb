{
 "cells": [
  {
   "attachments": {},
   "cell_type": "markdown",
   "id": "4f32a800",
   "metadata": {},
   "source": [
    "# 19. Select the rows of iris_2d that does not have any nan value."
   ]
  },
  {
   "cell_type": "code",
   "execution_count": null,
   "id": "ec1b6547",
   "metadata": {},
   "outputs": [],
   "source": [
    "import pandas as pd\n",
    "import numpy as np\n"
   ]
  },
  {
   "cell_type": "code",
   "execution_count": null,
   "id": "abe37f6e",
   "metadata": {},
   "outputs": [],
   "source": [
    "url = 'https://archive.ics.uci.edu/ml/machine-learning-databases/iris/iris.data'\n",
    "iris_2d = np.genfromtxt(url, delimiter=',', dtype='float', usecols=[0,1,2,3])"
   ]
  },
  {
   "cell_type": "code",
   "execution_count": null,
   "id": "aa786f1c",
   "metadata": {},
   "outputs": [],
   "source": [
    "iris_2d\n"
   ]
  },
  {
   "cell_type": "code",
   "execution_count": null,
   "id": "0ba80cd2",
   "metadata": {},
   "outputs": [],
   "source": [
    "iris_2d_nan = iris_2d[np.any(iris_2d == np.nan, axis = 1)]\n",
    "iris_2d_nan"
   ]
  }
 ],
 "metadata": {
  "kernelspec": {
   "display_name": "Python 3 (ipykernel)",
   "language": "python",
   "name": "python3"
  },
  "language_info": {
   "codemirror_mode": {
    "name": "ipython",
    "version": 3
   },
   "file_extension": ".py",
   "mimetype": "text/x-python",
   "name": "python",
   "nbconvert_exporter": "python",
   "pygments_lexer": "ipython3",
   "version": "3.11.2"
  }
 },
 "nbformat": 4,
 "nbformat_minor": 5
}
