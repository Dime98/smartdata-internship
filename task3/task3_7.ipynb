{
 "cells": [
  {
   "attachments": {},
   "cell_type": "markdown",
   "id": "4f32a800",
   "metadata": {},
   "source": [
    "# 7. Populate a ser with random numbers. Compute the minimum, 25th percentile, median, 75th, and maximum of ser."
   ]
  },
  {
   "cell_type": "code",
   "execution_count": null,
   "id": "ec1b6547",
   "metadata": {},
   "outputs": [],
   "source": [
    "import pandas as pd\n",
    "import random"
   ]
  },
  {
   "cell_type": "code",
   "execution_count": null,
   "id": "62f86842",
   "metadata": {},
   "outputs": [],
   "source": [
    "# randomize lists\n",
    "rand_len = 80\n",
    "rand_lst1 = [random.randint(0,10) for i in range(rand_len)]\n"
   ]
  },
  {
   "cell_type": "code",
   "execution_count": null,
   "id": "15c72de4",
   "metadata": {},
   "outputs": [],
   "source": [
    "# init series w/ rand values\n",
    "ser = pd.Series(rand_lst1)\n",
    "print(ser, type(ser))"
   ]
  },
  {
   "cell_type": "code",
   "execution_count": null,
   "id": "be87eba9",
   "metadata": {},
   "outputs": [],
   "source": [
    "# minimum\n",
    "ser.min()"
   ]
  },
  {
   "cell_type": "code",
   "execution_count": null,
   "id": "9852530c",
   "metadata": {},
   "outputs": [],
   "source": [
    "# 25th percentile\n",
    "ser.quantile(q=0.25)\n"
   ]
  },
  {
   "cell_type": "code",
   "execution_count": null,
   "id": "b9357ee4",
   "metadata": {},
   "outputs": [],
   "source": [
    "# median\n",
    "ser.median()"
   ]
  },
  {
   "cell_type": "code",
   "execution_count": null,
   "id": "44634bfc",
   "metadata": {},
   "outputs": [],
   "source": [
    "# 75th\n",
    "ser\n",
    "print(ser[75])\n",
    "print(ser.iloc[75])"
   ]
  },
  {
   "cell_type": "code",
   "execution_count": null,
   "id": "6de4f033",
   "metadata": {},
   "outputs": [],
   "source": [
    "ser.max()"
   ]
  }
 ],
 "metadata": {
  "kernelspec": {
   "display_name": "Python 3 (ipykernel)",
   "language": "python",
   "name": "python3"
  },
  "language_info": {
   "codemirror_mode": {
    "name": "ipython",
    "version": 3
   },
   "file_extension": ".py",
   "mimetype": "text/x-python",
   "name": "python",
   "nbconvert_exporter": "python",
   "pygments_lexer": "ipython3",
   "version": "3.11.2"
  }
 },
 "nbformat": 4,
 "nbformat_minor": 5
}
