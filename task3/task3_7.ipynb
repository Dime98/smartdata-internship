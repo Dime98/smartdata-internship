{
 "cells": [
  {
   "cell_type": "markdown",
   "id": "4f32a800",
   "metadata": {},
   "source": [
    "# 7. Populate a ser with random numbers. Compute the minimum, 25th percentile, median, 75th, \n",
    "and maximum of ser."
   ]
  },
  {
   "cell_type": "code",
   "execution_count": 2,
   "id": "ec1b6547",
   "metadata": {},
   "outputs": [],
   "source": [
    "import pandas as pd\n",
    "import random"
   ]
  },
  {
   "cell_type": "code",
   "execution_count": 7,
   "id": "62f86842",
   "metadata": {},
   "outputs": [],
   "source": [
    "# randomize lists\n",
    "rand_len = 80\n",
    "rand_lst1 = [random.randint(0,10) for i in range(rand_len)]\n"
   ]
  },
  {
   "cell_type": "code",
   "execution_count": 10,
   "id": "15c72de4",
   "metadata": {},
   "outputs": [
    {
     "name": "stdout",
     "output_type": "stream",
     "text": [
      "0     1\n",
      "1     3\n",
      "2     6\n",
      "3     1\n",
      "4     1\n",
      "     ..\n",
      "75    6\n",
      "76    5\n",
      "77    7\n",
      "78    0\n",
      "79    3\n",
      "Length: 80, dtype: int64 <class 'pandas.core.series.Series'>\n"
     ]
    }
   ],
   "source": [
    "# init series w/ rand values\n",
    "ser = pd.Series(rand_lst1)\n",
    "print(ser, type(ser))"
   ]
  },
  {
   "cell_type": "code",
   "execution_count": 13,
   "id": "be87eba9",
   "metadata": {},
   "outputs": [
    {
     "data": {
      "text/plain": [
       "0"
      ]
     },
     "execution_count": 13,
     "metadata": {},
     "output_type": "execute_result"
    }
   ],
   "source": [
    "# minimum\n",
    "ser.min()"
   ]
  },
  {
   "cell_type": "code",
   "execution_count": 14,
   "id": "9852530c",
   "metadata": {},
   "outputs": [
    {
     "data": {
      "text/plain": [
       "2.0"
      ]
     },
     "execution_count": 14,
     "metadata": {},
     "output_type": "execute_result"
    }
   ],
   "source": [
    "# 25th percentile\n",
    "ser.quantile(q=0.25)\n"
   ]
  },
  {
   "cell_type": "code",
   "execution_count": 15,
   "id": "b9357ee4",
   "metadata": {},
   "outputs": [
    {
     "data": {
      "text/plain": [
       "5.0"
      ]
     },
     "execution_count": 15,
     "metadata": {},
     "output_type": "execute_result"
    }
   ],
   "source": [
    "# median\n",
    "ser.median()"
   ]
  },
  {
   "cell_type": "code",
   "execution_count": 27,
   "id": "44634bfc",
   "metadata": {},
   "outputs": [
    {
     "name": "stdout",
     "output_type": "stream",
     "text": [
      "6\n",
      "6\n"
     ]
    }
   ],
   "source": [
    "# 75th\n",
    "ser\n",
    "print(ser[75])\n",
    "print(ser.iloc[75])"
   ]
  }
 ],
 "metadata": {
  "kernelspec": {
   "display_name": "Python 3 (ipykernel)",
   "language": "python",
   "name": "python3"
  },
  "language_info": {
   "codemirror_mode": {
    "name": "ipython",
    "version": 3
   },
   "file_extension": ".py",
   "mimetype": "text/x-python",
   "name": "python",
   "nbconvert_exporter": "python",
   "pygments_lexer": "ipython3",
   "version": "3.11.2"
  }
 },
 "nbformat": 4,
 "nbformat_minor": 5
}
