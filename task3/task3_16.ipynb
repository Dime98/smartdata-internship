{
 "cells": [
  {
   "attachments": {},
   "cell_type": "markdown",
   "id": "4f32a800",
   "metadata": {},
   "source": [
    "# 16. Import again the boston housing dataset, but while importing change the 'medv' (median house value) column so that values < 25 becomes 'Low' and > 25 becomes 'High'."
   ]
  },
  {
   "cell_type": "code",
   "execution_count": null,
   "id": "ec1b6547",
   "metadata": {},
   "outputs": [],
   "source": [
    "import pandas as pd\n",
    "import numpy as np\n"
   ]
  },
  {
   "cell_type": "code",
   "execution_count": null,
   "id": "abe37f6e",
   "metadata": {},
   "outputs": [],
   "source": [
    "df = pd.read_csv('data sets/raw.githubusercontent.com_selva86_datasets_master_BostonHousing.csv', converters={\"medv\": lambda x:\"low\" if float(x) < 25 else \"high\"})"
   ]
  },
  {
   "cell_type": "code",
   "execution_count": null,
   "id": "07af11c3",
   "metadata": {},
   "outputs": [],
   "source": [
    "df"
   ]
  },
  {
   "cell_type": "code",
   "execution_count": null,
   "id": "ab683196",
   "metadata": {},
   "outputs": [],
   "source": [
    "# # replacing not while importing\n",
    "# low = df[\"medv\"] < 25\n",
    "# # print(low)\n",
    "# # print(~low)\n",
    "# df.loc[low, \"medv\"] = \"low\"\n",
    "# df.loc[~low, \"medv\"] = \"high\"\n",
    "# df\n"
   ]
  }
 ],
 "metadata": {
  "kernelspec": {
   "display_name": "Python 3 (ipykernel)",
   "language": "python",
   "name": "python3"
  },
  "language_info": {
   "codemirror_mode": {
    "name": "ipython",
    "version": 3
   },
   "file_extension": ".py",
   "mimetype": "text/x-python",
   "name": "python",
   "nbconvert_exporter": "python",
   "pygments_lexer": "ipython3",
   "version": "3.11.2"
  }
 },
 "nbformat": 4,
 "nbformat_minor": 5
}
