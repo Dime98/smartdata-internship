{
 "cells": [
  {
   "attachments": {},
   "cell_type": "markdown",
   "id": "4f32a800",
   "metadata": {},
   "source": [
    "# 14. Convert the 1D iris to 2D array iris_2d (you choose the size of rows) by omitting the species text field. "
   ]
  },
  {
   "cell_type": "code",
   "execution_count": null,
   "id": "ec1b6547",
   "metadata": {},
   "outputs": [],
   "source": [
    "import pandas as pd\n",
    "import numpy as np\n"
   ]
  },
  {
   "cell_type": "code",
   "execution_count": null,
   "id": "9b566782",
   "metadata": {},
   "outputs": [],
   "source": [
    "url = 'https://archive.ics.uci.edu/ml/machine-learning-databases/iris/iris.data'\n",
    "iris_1d = np.genfromtxt(url, delimiter=',', dtype=None)\n",
    "iris_1d"
   ]
  },
  {
   "cell_type": "code",
   "execution_count": null,
   "id": "ab4242b2",
   "metadata": {},
   "outputs": [],
   "source": [
    "print(iris_1d.size)\n",
    "print(iris_1d.shape)\n",
    "print(iris_1d.ndim)\n"
   ]
  },
  {
   "cell_type": "code",
   "execution_count": null,
   "id": "d5b72104",
   "metadata": {},
   "outputs": [],
   "source": [
    "lst = [i[x] for i in iris_1d for x in range(len(i)-1)]"
   ]
  },
  {
   "cell_type": "code",
   "execution_count": null,
   "id": "f8cc9b70",
   "metadata": {},
   "outputs": [],
   "source": [
    "iris_2d = np.array(lst)\n",
    "iris_2d = np.reshape(iris_2d,(150,4))\n",
    "iris_2d"
   ]
  }
 ],
 "metadata": {
  "kernelspec": {
   "display_name": "Python 3 (ipykernel)",
   "language": "python",
   "name": "python3"
  },
  "language_info": {
   "codemirror_mode": {
    "name": "ipython",
    "version": 3
   },
   "file_extension": ".py",
   "mimetype": "text/x-python",
   "name": "python",
   "nbconvert_exporter": "python",
   "pygments_lexer": "ipython3",
   "version": "3.11.2"
  }
 },
 "nbformat": 4,
 "nbformat_minor": 5
}
