{
 "cells": [
  {
   "attachments": {},
   "cell_type": "markdown",
   "id": "4f32a800",
   "metadata": {},
   "source": [
    "# 9. Create and initialize an array of size 4x4 with random numbers. Replace all odd numbers in arr with -1.\n"
   ]
  },
  {
   "cell_type": "code",
   "execution_count": null,
   "id": "ec1b6547",
   "metadata": {},
   "outputs": [],
   "source": [
    "import numpy as np\n",
    "import random\n"
   ]
  },
  {
   "cell_type": "code",
   "execution_count": null,
   "id": "fd9dc021",
   "metadata": {},
   "outputs": [],
   "source": [
    "# non numpy\n",
    "# generate 4x4 array w/zeroes\n",
    "arr = [[0]*4 for i in range(4)]\n",
    "# arr = [[0 for _ in range(4)] for _ in range(4)]\n",
    "\n",
    "# fill w/random values \n",
    "for i in range(4):\n",
    "\tfor j in range(4):\n",
    "\t\tarr[i][j] = random.randint(1,10)\n",
    "\n",
    "print(arr)\n",
    "\n",
    "# quetion, can this replacing be done w/lst comprehension\n",
    "# arr = [arr[i][j] for i in range(4) for j in range(4) if arr[i][j] %2 == 0]\n",
    "for i in range(4):\n",
    "\tfor j in range(4):\n",
    "\t\tif arr[i][j] %2 == 0:\n",
    "\t\t\t# print(i)\n",
    "\t\t\tarr[i][j] = -1\n",
    "print(arr)\n"
   ]
  },
  {
   "cell_type": "code",
   "execution_count": null,
   "id": "95a98581",
   "metadata": {},
   "outputs": [],
   "source": [
    "# with numpy\n",
    "# np_arr = np.random.random((4,4))\n",
    "np_arr = np.random.randint(1,10,size=(4,4))\n",
    "print(np_arr)\n",
    "# print(np_arr %2 == 0)\n",
    "np_arr[np_arr %2 == 0] = -1\n",
    "print(np_arr)\n"
   ]
  }
 ],
 "metadata": {
  "kernelspec": {
   "display_name": "Python 3 (ipykernel)",
   "language": "python",
   "name": "python3"
  },
  "language_info": {
   "codemirror_mode": {
    "name": "ipython",
    "version": 3
   },
   "file_extension": ".py",
   "mimetype": "text/x-python",
   "name": "python",
   "nbconvert_exporter": "python",
   "pygments_lexer": "ipython3",
   "version": "3.11.2"
  }
 },
 "nbformat": 4,
 "nbformat_minor": 5
}
