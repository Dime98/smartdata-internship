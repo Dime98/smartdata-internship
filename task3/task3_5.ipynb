{
 "cells": [
  {
   "attachments": {},
   "cell_type": "markdown",
   "id": "4f32a800",
   "metadata": {},
   "source": [
    "# 5. Populate ser1 and ser2 with random numbers. From ser1 remove items present in ser2. \n"
   ]
  },
  {
   "cell_type": "code",
   "execution_count": null,
   "id": "ec1b6547",
   "metadata": {},
   "outputs": [],
   "source": [
    "import pandas as pd\n",
    "import random"
   ]
  },
  {
   "cell_type": "code",
   "execution_count": null,
   "id": "62f86842",
   "metadata": {},
   "outputs": [],
   "source": [
    "# randomize 2 lists\n",
    "rand_len = 5\n",
    "rand_lst1 = [random.randint(0,10) for i in range(rand_len)]\n",
    "rand_lst2 = [random.randint(0,10) for i in range(rand_len)]\n",
    "\n"
   ]
  },
  {
   "cell_type": "code",
   "execution_count": null,
   "id": "15c72de4",
   "metadata": {},
   "outputs": [],
   "source": [
    "# init series w/ rand values\n",
    "ser1 = pd.Series(rand_lst1)\n",
    "ser2 = pd.Series(rand_lst2)\n",
    "print(ser1, type(ser1))\n",
    "print(ser2, type(ser2))"
   ]
  },
  {
   "cell_type": "code",
   "execution_count": null,
   "id": "be87eba9",
   "metadata": {},
   "outputs": [],
   "source": [
    "# get similar elements\n",
    "same_elements = set(ser1).intersection(ser2)\n",
    "same_elements"
   ]
  },
  {
   "cell_type": "code",
   "execution_count": null,
   "id": "3495ac42",
   "metadata": {},
   "outputs": [],
   "source": [
    "# print(type(ser1))\n",
    "# print(list(same_elements))\n",
    "# ser1.drop([0])\n",
    "ser1.drop(list(same_elements))"
   ]
  }
 ],
 "metadata": {
  "kernelspec": {
   "display_name": "Python 3 (ipykernel)",
   "language": "python",
   "name": "python3"
  },
  "language_info": {
   "codemirror_mode": {
    "name": "ipython",
    "version": 3
   },
   "file_extension": ".py",
   "mimetype": "text/x-python",
   "name": "python",
   "nbconvert_exporter": "python",
   "pygments_lexer": "ipython3",
   "version": "3.11.2"
  }
 },
 "nbformat": 4,
 "nbformat_minor": 5
}
