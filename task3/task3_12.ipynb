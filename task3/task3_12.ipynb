{
 "cells": [
  {
   "attachments": {},
   "cell_type": "markdown",
   "id": "4f32a800",
   "metadata": {},
   "source": [
    "# 12. Create ser1 and ser2 and populate them with random numbers. Combine ser1 and ser2 to \n",
    "form a dataframe."
   ]
  },
  {
   "cell_type": "code",
   "execution_count": null,
   "id": "ec1b6547",
   "metadata": {},
   "outputs": [],
   "source": [
    "import pandas as pd\n",
    "import random"
   ]
  },
  {
   "cell_type": "code",
   "execution_count": null,
   "id": "fd9dc021",
   "metadata": {},
   "outputs": [],
   "source": [
    "# init series w/ rand values\n",
    "ser1 = pd.Series([random.randint(1, 100) for _ in range(5)])\n",
    "ser2 = pd.Series([random.randint(1, 100) for _ in range(5)])\n"
   ]
  },
  {
   "cell_type": "code",
   "execution_count": null,
   "id": "7349b200",
   "metadata": {},
   "outputs": [],
   "source": [
    "# print(ser1)\n",
    "# print(ser2)"
   ]
  },
  {
   "cell_type": "code",
   "execution_count": null,
   "id": "72cd15e8",
   "metadata": {},
   "outputs": [],
   "source": [
    "df = pd.concat([ser1,ser2])\n",
    "df"
   ]
  }
 ],
 "metadata": {
  "kernelspec": {
   "display_name": "Python 3 (ipykernel)",
   "language": "python",
   "name": "python3"
  },
  "language_info": {
   "codemirror_mode": {
    "name": "ipython",
    "version": 3
   },
   "file_extension": ".py",
   "mimetype": "text/x-python",
   "name": "python",
   "nbconvert_exporter": "python",
   "pygments_lexer": "ipython3",
   "version": "3.11.2"
  }
 },
 "nbformat": 4,
 "nbformat_minor": 5
}
