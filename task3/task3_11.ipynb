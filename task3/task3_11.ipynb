{
 "cells": [
  {
   "attachments": {},
   "cell_type": "markdown",
   "id": "4f32a800",
   "metadata": {},
   "source": [
    "# 11. Create two arrays a and b and initialize them with random numbers. Stack them vertically. \n",
    "# Then, try to create another array, stacking arrays a and b horizontally.(take care of their size)."
   ]
  },
  {
   "cell_type": "code",
   "execution_count": null,
   "id": "ec1b6547",
   "metadata": {},
   "outputs": [],
   "source": [
    "import numpy as np"
   ]
  },
  {
   "cell_type": "code",
   "execution_count": null,
   "id": "fd9dc021",
   "metadata": {},
   "outputs": [],
   "source": [
    "np_a = np.random.randint(1,10,size=(5,))\n",
    "np_b = np.random.randint(1,10,size=(7,))"
   ]
  },
  {
   "cell_type": "code",
   "execution_count": null,
   "id": "9ef16304",
   "metadata": {},
   "outputs": [],
   "source": [
    "# getting the differene of size in case arrays aren't the same size\n",
    "print(np_a, np_a.size, np_a.shape)\n",
    "print(np_b, np_b.size, np_b.shape)\n",
    "diff = abs(np_a.size - np_b.size)"
   ]
  },
  {
   "cell_type": "code",
   "execution_count": null,
   "id": "b2bda638",
   "metadata": {},
   "outputs": [],
   "source": [
    "# check size\n",
    "if np_a.size > np_b.size:\n",
    "\tprint(\"np_a.size > np_b.size\")\n",
    "\tadd_missing = [np.nan for i in range(diff)]\n",
    "\tnp_b = np.append(np_b,[add_missing])\n",
    "if np_a.size < np_b.size:\n",
    "\tprint(\"np_a.size < np_b.size\")\n",
    "\tadd_missing = [np.nan for i in range(diff)]\n",
    "\tnp_a = np.append(np_a,[add_missing])"
   ]
  },
  {
   "cell_type": "code",
   "execution_count": null,
   "id": "e8b24e25",
   "metadata": {},
   "outputs": [],
   "source": [
    "# stacking\n",
    "# print(np_a)\n",
    "np_c = np.stack((np_a, np_b), axis = 1)\n",
    "print(np_c)\n",
    "\n",
    "\n",
    "np_c = np.stack((np_a, np_b), axis = 0)\n",
    "print(np_c)"
   ]
  }
 ],
 "metadata": {
  "kernelspec": {
   "display_name": "Python 3 (ipykernel)",
   "language": "python",
   "name": "python3"
  },
  "language_info": {
   "codemirror_mode": {
    "name": "ipython",
    "version": 3
   },
   "file_extension": ".py",
   "mimetype": "text/x-python",
   "name": "python",
   "nbconvert_exporter": "python",
   "pygments_lexer": "ipython3",
   "version": "3.11.2"
  }
 },
 "nbformat": 4,
 "nbformat_minor": 5
}
