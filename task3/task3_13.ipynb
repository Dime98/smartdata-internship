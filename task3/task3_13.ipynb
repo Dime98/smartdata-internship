{
 "cells": [
  {
   "attachments": {},
   "cell_type": "markdown",
   "id": "4f32a800",
   "metadata": {},
   "source": [
    "# 13. Import every 50th row of BostonHousing dataset as a dataframe."
   ]
  },
  {
   "cell_type": "code",
   "execution_count": null,
   "id": "ec1b6547",
   "metadata": {},
   "outputs": [],
   "source": [
    "import pandas as pd"
   ]
  },
  {
   "cell_type": "code",
   "execution_count": null,
   "id": "abe37f6e",
   "metadata": {},
   "outputs": [],
   "source": [
    "df = pd.read_csv('data sets/raw.githubusercontent.com_selva86_datasets_master_BostonHousing.csv', skiprows=lambda x: x % 50 != 0)"
   ]
  },
  {
   "cell_type": "code",
   "execution_count": null,
   "id": "c342d5e8",
   "metadata": {},
   "outputs": [],
   "source": [
    "df"
   ]
  }
 ],
 "metadata": {
  "kernelspec": {
   "display_name": "Python 3 (ipykernel)",
   "language": "python",
   "name": "python3"
  },
  "language_info": {
   "codemirror_mode": {
    "name": "ipython",
    "version": 3
   },
   "file_extension": ".py",
   "mimetype": "text/x-python",
   "name": "python",
   "nbconvert_exporter": "python",
   "pygments_lexer": "ipython3",
   "version": "3.11.2"
  }
 },
 "nbformat": 4,
 "nbformat_minor": 5
}
