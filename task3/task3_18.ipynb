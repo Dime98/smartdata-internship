{
 "cells": [
  {
   "attachments": {},
   "cell_type": "markdown",
   "id": "4f32a800",
   "metadata": {},
   "source": [
    "# 18. Create a dataframe with rows as strides from a given series."
   ]
  },
  {
   "cell_type": "code",
   "execution_count": null,
   "id": "ec1b6547",
   "metadata": {},
   "outputs": [],
   "source": [
    "import pandas as pd"
   ]
  },
  {
   "cell_type": "code",
   "execution_count": null,
   "id": "abe37f6e",
   "metadata": {},
   "outputs": [],
   "source": [
    "nr = [_ for _ in range(10)]\n",
    "s = pd.Series(nr)\n",
    "# s = pd.Series(nr, index=nr)\n",
    "\n",
    "# print(s.to_dict())\n",
    "s"
   ]
  },
  {
   "cell_type": "code",
   "execution_count": null,
   "id": "316adc30",
   "metadata": {},
   "outputs": [],
   "source": [
    "df = pd.DataFrame([s])\n",
    "# df = pd.DataFrame([s.to_dict()])\n",
    "df"
   ]
  }
 ],
 "metadata": {
  "kernelspec": {
   "display_name": "Python 3 (ipykernel)",
   "language": "python",
   "name": "python3"
  },
  "language_info": {
   "codemirror_mode": {
    "name": "ipython",
    "version": 3
   },
   "file_extension": ".py",
   "mimetype": "text/x-python",
   "name": "python",
   "nbconvert_exporter": "python",
   "pygments_lexer": "ipython3",
   "version": "3.11.2"
  }
 },
 "nbformat": 4,
 "nbformat_minor": 5
}
