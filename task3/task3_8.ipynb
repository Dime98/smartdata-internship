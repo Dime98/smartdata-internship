{
 "cells": [
  {
   "attachments": {},
   "cell_type": "markdown",
   "id": "4f32a800",
   "metadata": {},
   "source": [
    "# 8. Create an array of size 4x4 with random numbers. Transform it into a numpy array.\n"
   ]
  },
  {
   "cell_type": "code",
   "execution_count": 3,
   "id": "ec1b6547",
   "metadata": {},
   "outputs": [],
   "source": [
    "import numpy as np\n",
    "import random\n"
   ]
  },
  {
   "cell_type": "code",
   "execution_count": 4,
   "id": "fd9dc021",
   "metadata": {},
   "outputs": [],
   "source": [
    "# generate 4x4 array w/zeroes\n",
    "arr = [[0]*4 for i in range(4)]\n",
    "# arr = [[0 for _ in range(4)] for _ in range(4)]\n",
    "\n",
    "# fill w/random values \n",
    "for i in range(4):\n",
    "\tfor j in range(4):\n",
    "\t\tarr[i][j] = random.randint(1,10)\n"
   ]
  },
  {
   "cell_type": "code",
   "execution_count": 5,
   "id": "95a98581",
   "metadata": {},
   "outputs": [
    {
     "name": "stdout",
     "output_type": "stream",
     "text": [
      "[[10  6  3  2]\n",
      " [ 4  7  5  4]\n",
      " [ 9  4  8  9]\n",
      " [ 2  1  6  4]] <class 'numpy.ndarray'>\n"
     ]
    }
   ],
   "source": [
    "# convert to numpy array\n",
    "np_arr = np.array(arr)\n",
    "print(np_arr, type(np_arr))"
   ]
  }
 ],
 "metadata": {
  "kernelspec": {
   "display_name": "Python 3 (ipykernel)",
   "language": "python",
   "name": "python3"
  },
  "language_info": {
   "codemirror_mode": {
    "name": "ipython",
    "version": 3
   },
   "file_extension": ".py",
   "mimetype": "text/x-python",
   "name": "python",
   "nbconvert_exporter": "python",
   "pygments_lexer": "ipython3",
   "version": "3.11.2"
  }
 },
 "nbformat": 4,
 "nbformat_minor": 5
}
