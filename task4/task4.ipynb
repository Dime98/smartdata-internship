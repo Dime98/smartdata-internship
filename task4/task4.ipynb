{
 "cells": [
  {
   "cell_type": "code",
   "execution_count": null,
   "id": "10cbd4bb",
   "metadata": {},
   "outputs": [],
   "source": [
    "import pandas as pd\n",
    "from matplotlib import pyplot as plt"
   ]
  },
  {
   "cell_type": "code",
   "execution_count": null,
   "id": "d11b49a0",
   "metadata": {},
   "outputs": [],
   "source": [
    "df = pd.read_csv('data set/Iris.csv')"
   ]
  },
  {
   "cell_type": "code",
   "execution_count": null,
   "id": "fd8cf8de",
   "metadata": {},
   "outputs": [],
   "source": [
    "df.describe()"
   ]
  },
  {
   "cell_type": "code",
   "execution_count": null,
   "id": "51e3c887",
   "metadata": {},
   "outputs": [],
   "source": [
    "df.head()"
   ]
  },
  {
   "cell_type": "code",
   "execution_count": null,
   "id": "421a37b5",
   "metadata": {},
   "outputs": [],
   "source": [
    "# df.value_counts()\n",
    "df.info()"
   ]
  },
  {
   "cell_type": "code",
   "execution_count": null,
   "id": "f1db4226",
   "metadata": {},
   "outputs": [],
   "source": [
    "filt = df['Species'].str.contains(\"setosa\")\n",
    "df.loc[filt].head(10)"
   ]
  },
  {
   "cell_type": "code",
   "execution_count": null,
   "id": "ec275d67",
   "metadata": {},
   "outputs": [],
   "source": [
    "filt = df['Species'].str.contains(\"versicolor\")\n",
    "df.loc[filt].tail(10)"
   ]
  },
  {
   "cell_type": "code",
   "execution_count": null,
   "id": "1785893f",
   "metadata": {},
   "outputs": [],
   "source": [
    "filt = df['Species'].str.contains(\"virginica\")\n",
    "df.loc[filt]\n",
    "np_arr = df.to_numpy()"
   ]
  },
  {
   "cell_type": "code",
   "execution_count": null,
   "metadata": {},
   "outputs": [],
   "source": [
    "# 10. Display the percentage of each spice in the dataset.\n",
    "df[\"Species\"].value_counts(normalize=True) * 100"
   ]
  },
  {
   "cell_type": "code",
   "execution_count": null,
   "id": "e27b88b1",
   "metadata": {},
   "outputs": [],
   "source": [
    "# 11. Determine which Spice, on average, has the larger value of \"Sepal.Length\".\n",
    "grouped_species = df.groupby([\"Species\"])\n",
    "grouped_species.value_counts()\n",
    "\n",
    "\n"
   ]
  },
  {
   "cell_type": "code",
   "execution_count": null,
   "id": "1714a241",
   "metadata": {},
   "outputs": [],
   "source": [
    "# print avg value of Sepal.Length for each spice\n",
    "grouped_species[[\"Species\",\"SepalLengthCm\"]].value_counts()\n",
    "print(\"avg SepalLengthCm for Iris-setosa     \", grouped_species[[\"Species\",\"SepalLengthCm\"]].value_counts().loc[\"Iris-setosa\"].mean() )\n",
    "print(\"avg SepalLengthCm for Iris-versicolor \", grouped_species[[\"Species\",\"SepalLengthCm\"]].value_counts().loc[\"Iris-versicolor\"].mean() )\n",
    "print(\"avg SepalLengthCm for Iris-virginica  \", grouped_species[[\"Species\",\"SepalLengthCm\"]].value_counts().loc[\"Iris-virginica\"].mean() )\n",
    "\n"
   ]
  },
  {
   "cell_type": "code",
   "execution_count": null,
   "id": "8f8f9bee",
   "metadata": {},
   "outputs": [],
   "source": [
    "# get largest Sepal.Length\n",
    "sepal_len = {}\n",
    "sepal_len[\"setosa\"] = grouped_species[[\"Species\",\"SepalLengthCm\"]].value_counts().loc[\"Iris-setosa\"].mean()\n",
    "sepal_len[\"versicolor\"] = grouped_species[[\"Species\",\"SepalLengthCm\"]].value_counts().loc[\"Iris-versicolor\"].mean()\n",
    "sepal_len[\"virginica\"] = grouped_species[[\"Species\",\"SepalLengthCm\"]].value_counts().loc[\"Iris-virginica\"].mean()\n",
    "\n",
    "max(sepal_len, key=sepal_len.get)"
   ]
  },
  {
   "cell_type": "code",
   "execution_count": null,
   "id": "c673be49",
   "metadata": {},
   "outputs": [],
   "source": [
    "# 12. Determine which Spice, on average, has the lowest value of \"Petal.Width\".\n",
    "petal_width = {}\n",
    "petal_width[\"setosa\"] = grouped_species[\"PetalWidthCm\"].value_counts().loc[\"Iris-setosa\"].mean()\n",
    "petal_width[\"versicolor\"] = grouped_species[\"PetalWidthCm\"].value_counts().loc[\"Iris-versicolor\"].mean()\n",
    "petal_width[\"virginica\"] = grouped_species[\"PetalWidthCm\"].value_counts().loc[\"Iris-virginica\"].mean()\n",
    "\n",
    "min(petal_width, key=petal_width.get)\n"
   ]
  },
  {
   "cell_type": "code",
   "execution_count": null,
   "id": "13a6f45c",
   "metadata": {},
   "outputs": [],
   "source": [
    "# 13. Plot the average value of each spice \"Sepal.Width\" in one schema.\n",
    "sepal_width_setosa = grouped_species[\"SepalWidthCm\"].value_counts().loc[\"Iris-setosa\"].mean()\n",
    "sepal_width_versicolor = grouped_species[\"SepalWidthCm\"].value_counts().loc[\"Iris-versicolor\"].mean()\n",
    "sepal_width_virginica = grouped_species[\"SepalWidthCm\"].value_counts().loc[\"Iris-virginica\"].mean()\n",
    "\n",
    "print(sepal_width_setosa)\n",
    "print(sepal_width_versicolor)\n",
    "print(sepal_width_virginica)\n",
    "\n",
    "# plt.title()\n",
    "plt.plot(sepal_width_setosa, label=\"sepal_width_setosa\")\n",
    "plt.plot(sepal_width_versicolor, label=\"sepal_width_versicolor\")\n",
    "plt.plot(sepal_width_virginica, label=\"sepal_width_virginica\")\n",
    "\n",
    "plt.legend()\n",
    "plt.show()\n"
   ]
  },
  {
   "cell_type": "code",
   "execution_count": null,
   "id": "7b355d20",
   "metadata": {},
   "outputs": [],
   "source": [
    "# 14. Compare Petal Length and Petal Width of each spice using a graph (plot the values \n",
    "# with individual color for each color, where x axis is \"Petal.Length\" and y axis is \n",
    "# \"Petal.Width\").\n"
   ]
  },
  {
   "cell_type": "code",
   "execution_count": null,
   "id": "fafcff2a",
   "metadata": {},
   "outputs": [],
   "source": [
    "# 15. Extract only enteties with Petal.Length greater than the average Petal.Length.\n",
    "df[\"PetalLengthCm\"].describe()\n",
    "filt = df[\"PetalLengthCm\"] > df[\"PetalLengthCm\"].mean()\n",
    "df[filt]\n"
   ]
  }
 ],
 "metadata": {
  "kernelspec": {
   "display_name": "Python 3 (ipykernel)",
   "language": "python",
   "name": "python3"
  },
  "language_info": {
   "codemirror_mode": {
    "name": "ipython",
    "version": 3
   },
   "file_extension": ".py",
   "mimetype": "text/x-python",
   "name": "python",
   "nbconvert_exporter": "python",
   "pygments_lexer": "ipython3",
   "version": "3.11.2"
  }
 },
 "nbformat": 4,
 "nbformat_minor": 5
}
